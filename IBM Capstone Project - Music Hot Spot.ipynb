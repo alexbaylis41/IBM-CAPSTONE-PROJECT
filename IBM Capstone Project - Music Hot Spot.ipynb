{
 "cells": [
  {
   "cell_type": "markdown",
   "metadata": {},
   "source": [
    "# IBM Data Science Capstone Poject\n",
    "## 'Glasgow's Music Hot Spot'"
   ]
  },
  {
   "cell_type": "markdown",
   "metadata": {},
   "source": [
    "# A.1 Introduction\n",
    "\n",
    "The IBM Data Science Proffesional certificate course from Coursera concludes with a final project.  Utilising the skills learnt in the data science toolset, I will apply these to a hypothetical real life problem.  The case study I have chosen is predicting which neighborhood would be best suited for a music hub in Glasgow City centre.\n",
    "\n",
    "##  Problem Definition\n",
    "\n",
    "Glasgow is Scotlands largest metropolis, with nearly 600,000 residents located in its central region and up to 1.8million living in the surrounding suburbs.  It's long been considered the prominent cultural hot spot in not just Scotland, but the UK. This was supported recently with the announcement that Glasgow is the UK’s first UNESCO City of Music and UK’s top cultural and creative city (European Commission 2019).\n",
    "\n",
    "From gigs in small venues and bars to incredible shows in arenas and city parks, Glasgow is a hotspot for live performance. Whether bagpipes or beats, traditional or techno, Glasgow is not afraid to make some noise\n",
    "\n",
    "For this reason, Ive decided to investigate the ideal location to open a new music hub. A one stop venue where musicains come to be educated, rehearse and perfrom their own music.\n",
    "\n",
    "## Venue Location Criteria\n",
    "\n",
    "\n",
    "- It's important that this location is suitable to draw in the maximum number of people, therefore ammenities such as public transport and resturants/cafes/bars would idealy be available. \n",
    "\n",
    "\n",
    "- In addition, noise concerns have to be considered if there are to be concerts perfromed, so an optimum location would not be too close to resident homes.\n",
    "\n",
    "\n",
    "- This venue will require a building with a large sqft area.  This might rule out certain central locations due to size constraints.\n",
    "\n",
    "\n",
    "- Lastly information about rental and property price data will be important. An up and coming location, slightly outside the city centre may be more affodable and therefore more preferable.\n",
    "\n",
    "\n",
    "## Tools and libraries used for analysis\n",
    "\n",
    "To help choose a location for the hub, I will analyse the various districs and neighborhoods using these methods:\n",
    "\n",
    "1. Beautiful Soup: Used to scrape website data for further processing\n",
    "\n",
    "\n",
    "2. Pandas: Create dataframes for easy interegation and manipulation of data\n",
    "\n",
    "\n",
    "3. Geopy Geocoders: To convert address into latitude and longitude values\n",
    "\n",
    "\n",
    "4. Matplotlib: For ploting various graphs\n",
    "\n",
    "\n",
    "5. Folium Map: Visualize your data on a Leaflet map \n",
    "\n",
    "\n",
    "6. Choropath Map: Visualize how rental prices vary across a Glasgow neighbourhoods on a thematic map using colour variations to highlight differences\n",
    "\n",
    "\n",
    "7. K-means Clustering: Unsupervised learning technique which from the location data creates clusters of similar neighbourhoods. This information will be then highlighted and clearly displayed on the folium map. Its this technique that will allow me to make informed decicions on best location candidates that fit the criteria set above\n"
   ]
  },
  {
   "cell_type": "markdown",
   "metadata": {},
   "source": [
    "# A.2 Data Description"
   ]
  },
  {
   "cell_type": "markdown",
   "metadata": {},
   "source": [
    "The data I will use to inform my desicion includes:\n",
    "\n",
    "- GLASGOW POSTAL CODE DATA: \n",
    "    \n",
    "    Scraped from wikipedia using the beautiful soup library and subsequently cleaned up to  label the folium map with accurate district information.\n",
    "\n",
    "\n",
    "- FOURSQUARE API DATA: \n",
    "    \n",
    "    Provide useful location related data into district ammenities. Includes venue categories and their names together with other longitude and latitude information.\n",
    "\n",
    "\n",
    "- PROPERTAL RENTAL DATA: \n",
    "    \n",
    "    Average rental prices of properties by square foot. Scraped from a local real estate website and processed for analysis. Average prices per district will be displayed in a choropleth map and later contributed to the neighborhood clustering.\n"
   ]
  },
  {
   "cell_type": "code",
   "execution_count": null,
   "metadata": {},
   "outputs": [],
   "source": []
  }
 ],
 "metadata": {
  "kernelspec": {
   "display_name": "Python 3",
   "language": "python",
   "name": "python3"
  },
  "language_info": {
   "codemirror_mode": {
    "name": "ipython",
    "version": 3
   },
   "file_extension": ".py",
   "mimetype": "text/x-python",
   "name": "python",
   "nbconvert_exporter": "python",
   "pygments_lexer": "ipython3",
   "version": "3.7.9"
  }
 },
 "nbformat": 4,
 "nbformat_minor": 4
}
